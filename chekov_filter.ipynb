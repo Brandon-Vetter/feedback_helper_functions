{
 "cells": [
  {
   "cell_type": "code",
   "execution_count": 2,
   "metadata": {},
   "outputs": [],
   "source": [
    "import numpy as np\n",
    "import matplotlib.pyplot as plt\n",
    "import sys\n",
    "\n",
    "sys.path.append(\"/home/Brandon/Documents/feedback_helper_functions/\")\n",
    "from transfer import *\n",
    "import filters as fl"
   ]
  },
  {
   "cell_type": "code",
   "execution_count": 3,
   "metadata": {},
   "outputs": [
    {
     "name": "stdout",
     "output_type": "stream",
     "text": [
      "a = 0.3764210592453014, b = 1.068500263848051\n"
     ]
    }
   ],
   "source": [
    "a, b = fl.find_chebyshev_ab(4, .9)\n",
    "n = 4\n",
    "print(f\"a = {a}, b = {b}\")\n",
    "offset_start = 180/(2*n)\n",
    "for i in range(n):\n",
    "    a, b = fl.find_chebyshev_ab(i, .9)\n",
    "    cur_frac = frac([1], [1, a*np.cos(np.deg2rad(offset_start + i*(180/n))) + j*b*np.cos(np.deg2rad(offset_start + i*(180/n)))])"
   ]
  }
 ],
 "metadata": {
  "kernelspec": {
   "display_name": "Python 3",
   "language": "python",
   "name": "python3"
  },
  "language_info": {
   "codemirror_mode": {
    "name": "ipython",
    "version": 3
   },
   "file_extension": ".py",
   "mimetype": "text/x-python",
   "name": "python",
   "nbconvert_exporter": "python",
   "pygments_lexer": "ipython3",
   "version": "3.12.7"
  }
 },
 "nbformat": 4,
 "nbformat_minor": 2
}
